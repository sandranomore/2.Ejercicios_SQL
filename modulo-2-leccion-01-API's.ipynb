{
 "cells": [
  {
   "cell_type": "markdown",
   "metadata": {},
   "source": [
    "**Sacamos información de los jugadores**"
   ]
  },
  {
   "cell_type": "code",
   "execution_count": null,
   "metadata": {},
   "outputs": [],
   "source": [
    "import requests\n",
    "import pandas as pd"
   ]
  },
  {
   "cell_type": "code",
   "execution_count": null,
   "metadata": {},
   "outputs": [],
   "source": [
    "# Información de jugadores \n",
    "\n",
    "jugadores = {\"nombres\": [], \"apellidos\": [], \"equipo\": []}\n",
    "\n",
    "res_jugadores = requests.get(f\"http://api.balldontlie.io/v1/players\", headers = {'Authorization': api_key}) # cada una pone la kpi que haya generado\n",
    "\n",
    "res_jugadores = res_jugadores.json()\n",
    "\n",
    "\n",
    "for jugador in res_jugadores[\"data\"]:\n",
    "    jugadores[\"nombres\"].append(jugador[\"first_name\"])\n",
    "    jugadores[\"apellidos\"].append(jugador[\"last_name\"])\n",
    "    jugadores[\"equipo\"].append(jugador[\"team\"][\"full_name\"])    \n",
    "\n",
    "df_jugadores = pd.DataFrame(jugadores)\n",
    "df_jugadores"
   ]
  },
  {
   "cell_type": "code",
   "execution_count": null,
   "metadata": {},
   "outputs": [],
   "source": [
    "\n",
    "# Información de partidos\n",
    "\n",
    "partidos = {\"equipo_local\": [], \"equipo_visitante\": [], \"puntos_local\": [], \"puntos_visitante\": [], \"temporada\": []}\n",
    "\n",
    "res_partidos = requests.get(f\"http://api.balldontlie.io/v1/games\", headers = {'Authorization': api_key}) # cada una pone la kpi que haya generado\n",
    "\n",
    "        \n",
    "res_partidos = res_partidos.json()\n",
    "\n",
    "\n",
    "for partido in res_partidos[\"data\"]:\n",
    "    partidos[\"equipo_local\"].append(partido[\"home_team\"][\"full_name\"])\n",
    "    partidos[\"equipo_visitante\"].append(partido[\"visitor_team\"][\"full_name\"])\n",
    "    partidos[\"puntos_local\"].append(partido[\"home_team_score\"])  \n",
    "    partidos[\"puntos_visitante\"].append(partido[\"visitor_team_score\"])   \n",
    "    partidos[\"temporada\"].append(partido[\"season\"]) \n",
    "\n",
    "df_partidos = pd.DataFrame(partidos)\n",
    "df_partidos"
   ]
  },
  {
   "cell_type": "code",
   "execution_count": null,
   "metadata": {},
   "outputs": [],
   "source": [
    "# Nos da una tabla vacía. Al acceder al contenido, vemos que dentro no hay nada. \n",
    "\n",
    "res_partidos.content"
   ]
  }
 ],
 "metadata": {
  "kernelspec": {
   "display_name": "promof",
   "language": "python",
   "name": "python3"
  },
  "language_info": {
   "codemirror_mode": {
    "name": "ipython",
    "version": 3
   },
   "file_extension": ".py",
   "mimetype": "text/x-python",
   "name": "python",
   "nbconvert_exporter": "python",
   "pygments_lexer": "ipython3",
   "version": "3.6.9"
  }
 },
 "nbformat": 4,
 "nbformat_minor": 2
}
